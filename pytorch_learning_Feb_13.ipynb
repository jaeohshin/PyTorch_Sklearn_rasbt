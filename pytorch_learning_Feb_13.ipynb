{
 "cells": [
  {
   "cell_type": "markdown",
   "metadata": {},
   "source": [
    "### 12.4 파아토치로 신경망 모델 만들기"
   ]
  },
  {
   "cell_type": "code",
   "execution_count": 27,
   "metadata": {},
   "outputs": [],
   "source": [
    "import numpy as np\n",
    "import torch \n",
    "import matplotlib.pyplot as plt"
   ]
  },
  {
   "cell_type": "code",
   "execution_count": 44,
   "metadata": {},
   "outputs": [],
   "source": [
    "#X_train = np.arange(10, dtype='float32').reshape(( 10,1))\n",
    "X_train = np.arange(10, dtype='float32')"
   ]
  },
  {
   "cell_type": "code",
   "execution_count": 45,
   "metadata": {},
   "outputs": [
    {
     "name": "stdout",
     "output_type": "stream",
     "text": [
      "[0. 1. 2. 3. 4. 5. 6. 7. 8. 9.]\n"
     ]
    }
   ],
   "source": [
    "print(X_train)"
   ]
  },
  {
   "cell_type": "code",
   "execution_count": 46,
   "metadata": {},
   "outputs": [],
   "source": [
    "X_train = np.arange(10, dtype='float32')"
   ]
  },
  {
   "cell_type": "code",
   "execution_count": 47,
   "metadata": {},
   "outputs": [
    {
     "name": "stdout",
     "output_type": "stream",
     "text": [
      "[0. 1. 2. 3. 4. 5. 6. 7. 8. 9.]\n"
     ]
    }
   ],
   "source": [
    "print(X_train)"
   ]
  },
  {
   "cell_type": "code",
   "execution_count": 48,
   "metadata": {},
   "outputs": [],
   "source": [
    "y_train = np.array([1.0, 1.3, 3.1, 2.0, 5.0,\n",
    "                    6.3, 6.6, 7.4, 8.0,\n",
    "                    9.0], dtype='float32')\n"
   ]
  },
  {
   "cell_type": "code",
   "execution_count": 49,
   "metadata": {},
   "outputs": [
    {
     "name": "stdout",
     "output_type": "stream",
     "text": [
      "[1.  1.3 3.1 2.  5.  6.3 6.6 7.4 8.  9. ]\n"
     ]
    }
   ],
   "source": [
    "print(y_train)"
   ]
  },
  {
   "cell_type": "code",
   "execution_count": 50,
   "metadata": {},
   "outputs": [
    {
     "data": {
      "text/plain": [
       "[<matplotlib.lines.Line2D at 0x7ffa42825410>]"
      ]
     },
     "execution_count": 50,
     "metadata": {},
     "output_type": "execute_result"
    },
    {
     "data": {
      "image/png": "[encoded data removed]",
      "text/plain": [
       "<Figure size 640x480 with 1 Axes>"
      ]
     },
     "metadata": {},
     "output_type": "display_data"
    }
   ],
   "source": [
    "plt.plot(X_train, y_train, 'o', markersize=14)"
   ]
  },
  {
   "cell_type": "code",
   "execution_count": 53,
   "metadata": {},
   "outputs": [
    {
     "data": {
      "text/plain": [
       "dtype('float32')"
      ]
     },
     "execution_count": 53,
     "metadata": {},
     "output_type": "execute_result"
    }
   ],
   "source": [
    "X_train.dtype"
   ]
  },
  {
   "cell_type": "code",
   "execution_count": 90,
   "metadata": {},
   "outputs": [],
   "source": [
    "from torch.utils.data import TensorDataset\n",
    "from torch.utils.data import DataLoader\n",
    "import torch.nn as nn\n",
    "X_train_norm = (X_train - np.mean(X_train)) / np.std(X_train)\n",
    "X_train_norm = torch.from_numpy(X_train_norm)"
   ]
  },
  {
   "cell_type": "code",
   "execution_count": 54,
   "metadata": {},
   "outputs": [
    {
     "data": {
      "text/plain": [
       "torch.float32"
      ]
     },
     "execution_count": 54,
     "metadata": {},
     "output_type": "execute_result"
    }
   ],
   "source": [
    "X_train_norm.dtype"
   ]
  },
  {
   "cell_type": "code",
   "execution_count": 55,
   "metadata": {},
   "outputs": [],
   "source": [
    "y_train = torch.from_numpy(y_train).float()"
   ]
  },
  {
   "cell_type": "code",
   "execution_count": 56,
   "metadata": {},
   "outputs": [
    {
     "data": {
      "text/plain": [
       "torch.float32"
      ]
     },
     "execution_count": 56,
     "metadata": {},
     "output_type": "execute_result"
    }
   ],
   "source": [
    "y_train.dtype"
   ]
  },
  {
   "cell_type": "code",
   "execution_count": 59,
   "metadata": {},
   "outputs": [],
   "source": [
    "train_ds = TensorDataset(X_train_norm, y_train)\n",
    "batch_size = 1\n",
    "train_dl = DataLoader(train_ds, batch_size, shuffle=True)"
   ]
  },
  {
   "cell_type": "code",
   "execution_count": 60,
   "metadata": {},
   "outputs": [
    {
     "data": {
      "text/plain": [
       "<torch.utils.data.dataloader.DataLoader at 0x7ff9efac7490>"
      ]
     },
     "execution_count": 60,
     "metadata": {},
     "output_type": "execute_result"
    }
   ],
   "source": [
    "train_dl"
   ]
  },
  {
   "cell_type": "code",
   "execution_count": 62,
   "metadata": {},
   "outputs": [],
   "source": [
    "torch.manual_seed(1)\n",
    "weight = torch.randn(1)\n",
    "weight.requires_grad_()\n",
    "bias = torch.zeros(1, requires_grad=True)\n",
    "def model(xb):\n",
    "    return xb @ weight + bias"
   ]
  },
  {
   "cell_type": "code",
   "execution_count": 64,
   "metadata": {},
   "outputs": [],
   "source": [
    "def loss_fn(input, target):\n",
    "    return (input - target).pow(2).mean()"
   ]
  },
  {
   "cell_type": "code",
   "execution_count": 66,
   "metadata": {},
   "outputs": [
    {
     "name": "stdout",
     "output_type": "stream",
     "text": [
      "에포크0 손실 0.0094\n",
      "에포크10 손실 0.0015\n",
      "에포크20 손실 0.1757\n",
      "에포크30 손실 0.6127\n",
      "에포크40 손실 0.2652\n",
      "에포크50 손실 0.2687\n",
      "에포크60 손실 0.4760\n",
      "에포크70 손실 1.9154\n",
      "에포크80 손실 0.0017\n",
      "에포크90 손실 0.0021\n",
      "에포크100 손실 0.0003\n",
      "에포크110 손실 0.4558\n",
      "에포크120 손실 0.2806\n",
      "에포크130 손실 0.4520\n",
      "에포크140 손실 0.4506\n",
      "에포크150 손실 1.9511\n",
      "에포크160 손실 0.0384\n",
      "에포크170 손실 0.0168\n",
      "에포크180 손실 0.2833\n",
      "에포크190 손실 0.2835\n",
      "에포크200 손실 0.0000\n",
      "에포크210 손실 0.2853\n",
      "에포크220 손실 0.0395\n",
      "에포크230 손실 0.2850\n",
      "에포크240 손실 0.0175\n",
      "에포크250 손실 0.1601\n",
      "에포크260 손실 0.5385\n",
      "에포크270 손실 0.0044\n",
      "에포크280 손실 0.0177\n",
      "에포크290 손실 0.0000\n",
      "에포크300 손실 0.1601\n",
      "에포크310 손실 0.2846\n",
      "에포크320 손실 0.0044\n",
      "에포크330 손실 0.5379\n",
      "에포크340 손실 0.0177\n",
      "에포크350 손실 0.0400\n",
      "에포크360 손실 0.5379\n",
      "에포크370 손실 0.0000\n",
      "에포크380 손실 0.0000\n",
      "에포크390 손실 1.9599\n",
      "에포크400 손실 0.5378\n",
      "에포크410 손실 1.9599\n",
      "에포크420 손실 1.9600\n",
      "에포크430 손실 0.0000\n",
      "에포크440 손실 0.0044\n",
      "에포크450 손실 0.0400\n",
      "에포크460 손실 0.0400\n",
      "에포크470 손실 0.2844\n",
      "에포크480 손실 0.4445\n",
      "에포크490 손실 1.9600\n",
      "에포크500 손실 0.0178\n",
      "에포크510 손실 0.2845\n",
      "에포크520 손실 0.0000\n",
      "에포크530 손실 0.1600\n",
      "에포크540 손실 0.0178\n",
      "에포크550 손실 1.9600\n",
      "에포크560 손실 0.0000\n",
      "에포크570 손실 0.0000\n",
      "에포크580 손실 0.2845\n",
      "에포크590 손실 0.0000\n",
      "에포크600 손실 1.9600\n",
      "에포크610 손실 0.0178\n",
      "에포크620 손실 0.0000\n",
      "에포크630 손실 1.9600\n",
      "에포크640 손실 0.2844\n",
      "에포크650 손실 0.0000\n",
      "에포크660 손실 0.0178\n",
      "에포크670 손실 0.1600\n",
      "에포크680 손실 0.1600\n",
      "에포크690 손실 0.5378\n",
      "에포크700 손실 0.0178\n",
      "에포크710 손실 1.9600\n",
      "에포크720 손실 0.0044\n",
      "에포크730 손실 0.2844\n",
      "에포크740 손실 0.4445\n",
      "에포크750 손실 0.2845\n",
      "에포크760 손실 0.0000\n",
      "에포크770 손실 1.9600\n",
      "에포크780 손실 0.4445\n",
      "에포크790 손실 0.0400\n",
      "에포크800 손실 0.0044\n",
      "에포크810 손실 1.9600\n",
      "에포크820 손실 0.4445\n",
      "에포크830 손실 0.0000\n",
      "에포크840 손실 0.1600\n",
      "에포크850 손실 0.0044\n",
      "에포크860 손실 0.0400\n",
      "에포크870 손실 0.5378\n",
      "에포크880 손실 0.2844\n",
      "에포크890 손실 0.5378\n",
      "에포크900 손실 0.0000\n",
      "에포크910 손실 0.0178\n",
      "에포크920 손실 0.2845\n",
      "에포크930 손실 0.1600\n",
      "에포크940 손실 0.2845\n",
      "에포크950 손실 0.1600\n",
      "에포크960 손실 0.0044\n",
      "에포크970 손실 0.5378\n",
      "에포크980 손실 1.9600\n",
      "에포크990 손실 0.0400\n",
      "에포크1000 손실 0.5378\n",
      "에포크1010 손실 0.1600\n",
      "에포크1020 손실 0.5378\n",
      "에포크1030 손실 0.2845\n",
      "에포크1040 손실 0.0044\n",
      "에포크1050 손실 0.1600\n",
      "에포크1060 손실 0.2844\n",
      "에포크1070 손실 0.0044\n",
      "에포크1080 손실 0.0044\n",
      "에포크1090 손실 0.1600\n",
      "에포크1100 손실 0.5378\n",
      "에포크1110 손실 0.4445\n",
      "에포크1120 손실 0.1600\n",
      "에포크1130 손실 0.5378\n",
      "에포크1140 손실 0.0178\n",
      "에포크1150 손실 1.9600\n",
      "에포크1160 손실 0.1600\n",
      "에포크1170 손실 0.2845\n",
      "에포크1180 손실 1.9600\n",
      "에포크1190 손실 0.2845\n",
      "에포크1200 손실 0.0178\n",
      "에포크1210 손실 0.0000\n",
      "에포크1220 손실 1.9600\n",
      "에포크1230 손실 0.0400\n",
      "에포크1240 손실 1.9600\n",
      "에포크1250 손실 0.0044\n",
      "에포크1260 손실 0.2845\n",
      "에포크1270 손실 0.5378\n",
      "에포크1280 손실 0.2844\n",
      "에포크1290 손실 0.4445\n",
      "에포크1300 손실 0.2844\n",
      "에포크1310 손실 1.9600\n",
      "에포크1320 손실 0.0044\n",
      "에포크1330 손실 0.0000\n",
      "에포크1340 손실 0.2845\n",
      "에포크1350 손실 1.9600\n",
      "에포크1360 손실 0.1600\n",
      "에포크1370 손실 0.0400\n",
      "에포크1380 손실 0.0400\n",
      "에포크1390 손실 1.9600\n",
      "에포크1400 손실 0.2845\n",
      "에포크1410 손실 0.4445\n",
      "에포크1420 손실 1.9600\n",
      "에포크1430 손실 0.5378\n",
      "에포크1440 손실 0.1600\n",
      "에포크1450 손실 0.0044\n",
      "에포크1460 손실 0.2845\n",
      "에포크1470 손실 0.5378\n",
      "에포크1480 손실 1.9600\n",
      "에포크1490 손실 0.0400\n",
      "에포크1500 손실 0.4445\n",
      "에포크1510 손실 0.0400\n",
      "에포크1520 손실 0.2845\n",
      "에포크1530 손실 0.0400\n",
      "에포크1540 손실 0.5378\n",
      "에포크1550 손실 1.9600\n",
      "에포크1560 손실 0.0044\n",
      "에포크1570 손실 0.0400\n",
      "에포크1580 손실 0.0178\n",
      "에포크1590 손실 0.4445\n",
      "에포크1600 손실 0.0044\n",
      "에포크1610 손실 0.2844\n",
      "에포크1620 손실 0.2844\n",
      "에포크1630 손실 0.0000\n",
      "에포크1640 손실 0.2845\n",
      "에포크1650 손실 0.1600\n",
      "에포크1660 손실 0.1600\n",
      "에포크1670 손실 1.9600\n",
      "에포크1680 손실 0.1600\n",
      "에포크1690 손실 0.0044\n",
      "에포크1700 손실 0.5378\n",
      "에포크1710 손실 0.5378\n",
      "에포크1720 손실 0.0178\n",
      "에포크1730 손실 1.9600\n",
      "에포크1740 손실 0.5378\n",
      "에포크1750 손실 0.1600\n",
      "에포크1760 손실 0.2844\n",
      "에포크1770 손실 0.4445\n",
      "에포크1780 손실 0.4445\n",
      "에포크1790 손실 0.0400\n",
      "에포크1800 손실 0.5378\n",
      "에포크1810 손실 0.0044\n",
      "에포크1820 손실 0.4445\n",
      "에포크1830 손실 0.1600\n",
      "에포크1840 손실 0.5378\n",
      "에포크1850 손실 0.2844\n",
      "에포크1860 손실 1.9600\n",
      "에포크1870 손실 0.0044\n",
      "에포크1880 손실 0.0178\n",
      "에포크1890 손실 0.0178\n",
      "에포크1900 손실 0.0044\n",
      "에포크1910 손실 0.5378\n",
      "에포크1920 손실 0.5378\n",
      "에포크1930 손실 0.2844\n",
      "에포크1940 손실 1.9600\n",
      "에포크1950 손실 0.0178\n",
      "에포크1960 손실 0.4445\n",
      "에포크1970 손실 0.5378\n",
      "에포크1980 손실 0.0400\n",
      "에포크1990 손실 0.4445\n"
     ]
    }
   ],
   "source": [
    "learning_rate = 0.001\n",
    "num_epochs = 2000\n",
    "log_epochs = 10\n",
    "\n",
    "for epoch in range(num_epochs):\n",
    "    for x_batch, y_batch in train_dl:\n",
    "        pred = model(x_batch)\n",
    "        loss = loss_fn(pred, y_batch.long())\n",
    "        loss.backward()\n",
    "    with torch.no_grad():\n",
    "        weight -= weight.grad * learning_rate\n",
    "        bias -= bias.grad * learning_rate\n",
    "        weight.grad.zero_()\n",
    "        bias.grad.zero_()\n",
    "    if epoch % log_epochs == 0:\n",
    "        print(f'에포크{epoch} 손실 {loss.item():.4f}')"
   ]
  },
  {
   "cell_type": "code",
   "execution_count": 67,
   "metadata": {},
   "outputs": [
    {
     "name": "stdout",
     "output_type": "stream",
     "text": [
      "최종 파라미터: 2.6807901859283447 4.799988269805908\n"
     ]
    }
   ],
   "source": [
    "print('최종 파라미터:', weight.item(), bias.item())"
   ]
  },
  {
   "cell_type": "code",
   "execution_count": 82,
   "metadata": {},
   "outputs": [],
   "source": [
    "X_test = np.linspace(0, 9, num=100, dtype='float32').reshape(-1, 1)"
   ]
  },
  {
   "cell_type": "code",
   "execution_count": 83,
   "metadata": {},
   "outputs": [
    {
     "data": {
      "text/plain": [
       "(100, 1)"
      ]
     },
     "execution_count": 83,
     "metadata": {},
     "output_type": "execute_result"
    }
   ],
   "source": [
    "X_test.shape"
   ]
  },
  {
   "cell_type": "code",
   "execution_count": 84,
   "metadata": {},
   "outputs": [
    {
     "data": {
      "image/png": "[encoded data removed]",
      "text/plain": [
       "<Figure size 1300x500 with 1 Axes>"
      ]
     },
     "metadata": {},
     "output_type": "display_data"
    }
   ],
   "source": [
    "X_test_norm = (X_test - np.mean(X_train)) / np.std(X_train)\n",
    "X_test_norm = torch.from_numpy(X_test_norm)\n",
    "y_pred = model(X_test_norm).detach()\n",
    "fig = plt.figure(figsize=(13, 5))\n",
    "ax = fig.add_subplot(1, 2, 1)\n",
    "plt.plot(X_train_norm, y_train, 'o', markersize=14)\n",
    "plt.plot(X_test_norm, y_pred, '--', lw=3)\n",
    "plt.legend(['Training examples', 'Linear reg.'], fontsize=15)\n",
    "ax.set_xlabel('x', size=15)\n",
    "ax.set_ylabel('x', size=15)\n",
    "ax.tick_params(axis='both', which='major', labelsize=15)\n",
    "plt.show()"
   ]
  },
  {
   "cell_type": "code",
   "execution_count": 85,
   "metadata": {},
   "outputs": [
    {
     "name": "stdout",
     "output_type": "stream",
     "text": [
      "tensor([6.2000], grad_fn=<AddBackward0>)\n"
     ]
    }
   ],
   "source": [
    "print(model(x_batch))"
   ]
  },
  {
   "cell_type": "code",
   "execution_count": 93,
   "metadata": {},
   "outputs": [],
   "source": [
    "import torch.nn as nn\n",
    "import torch \n",
    "loss_fn = nn.MSELoss(reduction='mean')\n",
    "input_size = 1\n",
    "output_size = 1\n",
    "\n",
    "model = nn.Linear(input_size, output_size)\n",
    "optimizer = torch.optim.SGD(model.parameters(), lr= learning_rate)"
   ]
  },
  {
   "cell_type": "code",
   "execution_count": 94,
   "metadata": {},
   "outputs": [
    {
     "name": "stdout",
     "output_type": "stream",
     "text": [
      "에포크 0 손실 34.7879\n",
      "에포크 10 손실 0.2323\n",
      "에포크 20 손실 3.4483\n",
      "에포크 30 손실 17.1924\n",
      "에포크 40 손실 10.4620\n",
      "에포크 50 손실 7.0775\n",
      "에포크 60 손실 4.7988\n",
      "에포크 70 손실 3.2624\n",
      "에포크 80 손실 2.6037\n",
      "에포크 90 손실 0.6802\n",
      "에포크 100 손실 1.0477\n",
      "에포크 110 손실 2.0054\n",
      "에포크 120 손실 0.7515\n",
      "에포크 130 손실 0.0763\n",
      "에포크 140 손실 0.3386\n",
      "에포크 150 손실 0.4928\n",
      "에포크 160 손실 2.0653\n",
      "에포크 170 손실 0.1740\n",
      "에포크 180 손실 2.1841\n",
      "에포크 190 손실 0.0001\n",
      "에포크 200 손실 0.0409\n",
      "에포크 210 손실 0.0320\n",
      "에포크 220 손실 0.8497\n",
      "에포크 230 손실 0.0745\n",
      "에포크 240 손실 2.3583\n",
      "에포크 250 손실 0.0745\n",
      "에포크 260 손실 0.0625\n",
      "에포크 270 손실 0.2469\n",
      "에포크 280 손실 0.1367\n",
      "에포크 290 손실 0.0091\n",
      "에포크 300 손실 0.7619\n",
      "에포크 310 손실 0.7578\n",
      "에포크 320 손실 0.0657\n",
      "에포크 330 손실 0.0070\n",
      "에포크 340 손실 0.0500\n",
      "에포크 350 손실 0.1390\n",
      "에포크 360 손실 0.2391\n",
      "에포크 370 손실 0.7456\n",
      "에포크 380 손실 0.7447\n",
      "에포크 390 손실 0.7440\n",
      "에포크 400 손실 0.0742\n",
      "에포크 410 손실 2.4326\n",
      "에포크 420 손실 0.0717\n",
      "에포크 430 손실 0.0476\n",
      "에포크 440 손실 0.0475\n",
      "에포크 450 손실 2.4334\n",
      "에포크 460 손실 0.0744\n",
      "에포크 470 손실 0.1394\n",
      "에포크 480 손실 0.0446\n",
      "에포크 490 손실 0.0447\n",
      "에포크 500 손실 0.0473\n",
      "에포크 510 손실 0.0473\n",
      "에포크 520 손실 0.0744\n",
      "에포크 530 손실 0.0726\n",
      "에포크 540 손실 0.2524\n",
      "에포크 550 손실 0.7409\n",
      "에포크 560 손실 0.7410\n",
      "에포크 570 손실 0.0449\n",
      "에포크 580 손실 0.0742\n",
      "에포크 590 손실 0.0726\n",
      "에포크 600 손실 2.4354\n",
      "에포크 610 손실 0.2522\n",
      "에포크 620 손실 0.2378\n",
      "에포크 630 손실 0.0471\n",
      "에포크 640 손실 0.2378\n",
      "에포크 650 손실 0.1395\n",
      "에포크 660 손실 0.0055\n",
      "에포크 670 손실 0.2377\n",
      "에포크 680 손실 0.0471\n",
      "에포크 690 손실 0.0450\n",
      "에포크 700 손실 0.2377\n",
      "에포크 710 손실 0.0471\n",
      "에포크 720 손실 0.1396\n",
      "에포크 730 손실 0.0471\n",
      "에포크 740 손실 0.0055\n",
      "에포크 750 손실 0.0741\n",
      "에포크 760 손실 0.0055\n",
      "에포크 770 손실 0.0471\n",
      "에포크 780 손실 0.1397\n",
      "에포크 790 손실 0.2376\n",
      "에포크 800 손실 2.4349\n",
      "에포크 810 손실 0.0727\n",
      "에포크 820 손실 0.2376\n",
      "에포크 830 손실 0.1396\n",
      "에포크 840 손실 0.0470\n",
      "에포크 850 손실 0.2376\n",
      "에포크 860 손실 0.1395\n",
      "에포크 870 손실 0.0744\n",
      "에포크 880 손실 0.0471\n",
      "에포크 890 손실 0.0744\n",
      "에포크 900 손실 0.1395\n",
      "에포크 910 손실 0.0742\n",
      "에포크 920 손실 0.0471\n",
      "에포크 930 손실 0.2379\n",
      "에포크 940 손실 0.7409\n",
      "에포크 950 손실 0.0056\n",
      "에포크 960 손실 2.4345\n",
      "에포크 970 손실 0.2523\n",
      "에포크 980 손실 0.7407\n",
      "에포크 990 손실 0.2376\n",
      "에포크 1000 손실 0.0449\n",
      "에포크 1010 손실 2.4351\n",
      "에포크 1020 손실 0.2379\n",
      "에포크 1030 손실 0.1394\n",
      "에포크 1040 손실 0.7408\n",
      "에포크 1050 손실 0.0450\n",
      "에포크 1060 손실 0.0472\n",
      "에포크 1070 손실 0.7410\n",
      "에포크 1080 손실 2.4339\n",
      "에포크 1090 손실 0.0471\n",
      "에포크 1100 손실 0.0449\n",
      "에포크 1110 손실 0.1393\n",
      "에포크 1120 손실 0.2378\n",
      "에포크 1130 손실 0.0726\n",
      "에포크 1140 손실 0.0056\n",
      "에포크 1150 손실 0.0744\n",
      "에포크 1160 손실 0.1395\n",
      "에포크 1170 손실 0.0745\n",
      "에포크 1180 손실 0.2379\n",
      "에포크 1190 손실 0.2522\n",
      "에포크 1200 손실 2.4351\n",
      "에포크 1210 손실 2.4351\n",
      "에포크 1220 손실 0.0726\n",
      "에포크 1230 손실 2.4346\n",
      "에포크 1240 손실 0.0742\n",
      "에포크 1250 손실 0.0726\n",
      "에포크 1260 손실 0.0055\n",
      "에포크 1270 손실 0.1396\n",
      "에포크 1280 손실 0.0472\n",
      "에포크 1290 손실 0.1395\n",
      "에포크 1300 손실 2.4347\n",
      "에포크 1310 손실 0.1395\n",
      "에포크 1320 손실 2.4347\n",
      "에포크 1330 손실 0.0743\n",
      "에포크 1340 손실 0.7408\n",
      "에포크 1350 손실 0.2523\n",
      "에포크 1360 손실 0.0726\n",
      "에포크 1370 손실 0.7406\n",
      "에포크 1380 손실 2.4351\n",
      "에포크 1390 손실 0.2522\n",
      "에포크 1400 손실 0.0449\n",
      "에포크 1410 손실 0.0743\n",
      "에포크 1420 손실 0.0727\n",
      "에포크 1430 손실 0.0449\n",
      "에포크 1440 손실 0.1394\n",
      "에포크 1450 손실 0.2381\n",
      "에포크 1460 손실 0.0743\n",
      "에포크 1470 손실 0.7409\n",
      "에포크 1480 손실 0.0727\n",
      "에포크 1490 손실 0.0471\n",
      "에포크 1500 손실 2.4351\n",
      "에포크 1510 손실 0.7405\n",
      "에포크 1520 손실 0.0450\n",
      "에포크 1530 손실 2.4349\n",
      "에포크 1540 손실 0.0055\n",
      "에포크 1550 손실 0.2522\n",
      "에포크 1560 손실 0.2378\n",
      "에포크 1570 손실 0.0450\n",
      "에포크 1580 손실 0.0055\n",
      "에포크 1590 손실 0.0742\n",
      "에포크 1600 손실 0.0471\n",
      "에포크 1610 손실 0.0055\n",
      "에포크 1620 손실 0.0450\n",
      "에포크 1630 손실 0.0055\n",
      "에포크 1640 손실 0.1396\n",
      "에포크 1650 손실 0.0742\n",
      "에포크 1660 손실 0.0727\n",
      "에포크 1670 손실 0.7405\n",
      "에포크 1680 손실 2.4350\n",
      "에포크 1690 손실 0.0742\n",
      "에포크 1700 손실 0.2523\n",
      "에포크 1710 손실 0.0726\n",
      "에포크 1720 손실 2.4348\n",
      "에포크 1730 손실 0.7405\n",
      "에포크 1740 손실 0.0471\n",
      "에포크 1750 손실 0.7406\n",
      "에포크 1760 손실 2.4346\n",
      "에포크 1770 손실 0.2523\n",
      "에포크 1780 손실 0.0055\n",
      "에포크 1790 손실 0.7408\n",
      "에포크 1800 손실 0.2524\n",
      "에포크 1810 손실 0.1393\n",
      "에포크 1820 손실 0.0745\n",
      "에포크 1830 손실 0.1393\n",
      "에포크 1840 손실 0.0449\n",
      "에포크 1850 손실 0.0746\n",
      "에포크 1860 손실 0.2381\n",
      "에포크 1870 손실 0.0746\n",
      "에포크 1880 손실 0.0472\n",
      "에포크 1890 손실 0.2380\n",
      "에포크 1900 손실 0.1393\n",
      "에포크 1910 손실 0.0056\n",
      "에포크 1920 손실 2.4342\n",
      "에포크 1930 손실 0.1395\n",
      "에포크 1940 손실 0.7408\n",
      "에포크 1950 손실 0.0449\n",
      "에포크 1960 손실 0.0449\n",
      "에포크 1970 손실 0.7409\n",
      "에포크 1980 손실 0.2524\n",
      "에포크 1990 손실 0.7408\n"
     ]
    }
   ],
   "source": [
    "for epoch in range(num_epochs):\n",
    "    for x_batch, y_batch in train_dl:\n",
    "        # 1. 예측을 생성\n",
    "        pred = model(x_batch)\n",
    "        # 2. 손실을 계산\n",
    "        loss = loss_fn(pred, y_batch)\n",
    "        #  3. calcuate gradient\n",
    "        loss.backward()\n",
    "        # 4. parameter update using gradient\n",
    "        optimizer.step()\n",
    "        # 5. set gradient to 0\n",
    "        optimizer.zero_grad()\n",
    "    \n",
    "    if epoch % log_epochs ==0 :\n",
    "        print(f'에포크 {epoch} 손실 {loss.item():.4f}')"
   ]
  },
  {
   "cell_type": "code",
   "execution_count": 95,
   "metadata": {},
   "outputs": [
    {
     "name": "stdout",
     "output_type": "stream",
     "text": [
      "최종 파라미터 2.7066781520843506 4.969934940338135\n"
     ]
    }
   ],
   "source": [
    "print('최종 파라미터', model.weight.item(), model.bias.item())"
   ]
  },
  {
   "cell_type": "code",
   "execution_count": null,
   "metadata": {},
   "outputs": [],
   "source": []
  }
 ],
 "metadata": {
  "kernelspec": {
   "display_name": "study",
   "language": "python",
   "name": "python3"
  },
  "language_info": {
   "codemirror_mode": {
    "name": "ipython",
    "version": 3
   },
   "file_extension": ".py",
   "mimetype": "text/x-python",
   "name": "python",
   "nbconvert_exporter": "python",
   "pygments_lexer": "ipython3",
   "version": "3.11.11"
  }
 },
 "nbformat": 4,
 "nbformat_minor": 2
}
