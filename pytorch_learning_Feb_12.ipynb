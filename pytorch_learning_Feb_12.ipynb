{
 "cells": [
  {
   "cell_type": "code",
   "execution_count": 4,
   "metadata": {},
   "outputs": [
    {
     "name": "stdout",
     "output_type": "stream",
     "text": [
      "/home/jaeohshin\n"
     ]
    }
   ],
   "source": [
    "from pathlib import Path\n",
    "print(pathlib.Path.cwd())"
   ]
  },
  {
   "cell_type": "code",
   "execution_count": 5,
   "metadata": {},
   "outputs": [
    {
     "name": "stdout",
     "output_type": "stream",
     "text": [
      "/home/jaeohshin\n"
     ]
    }
   ],
   "source": [
    "print(pathlib.Path.home())"
   ]
  },
  {
   "cell_type": "code",
   "execution_count": 9,
   "metadata": {},
   "outputs": [
    {
     "name": "stdout",
     "output_type": "stream",
     "text": [
      "/home/jaeohshin/folder/hi\n"
     ]
    }
   ],
   "source": [
    "p = Path('/home/jaeohshin/folder')\n",
    "p = p / 'hi'\n",
    "print(p)"
   ]
  },
  {
   "cell_type": "code",
   "execution_count": 11,
   "metadata": {},
   "outputs": [
    {
     "name": "stdout",
     "output_type": "stream",
     "text": [
      "True\n"
     ]
    }
   ],
   "source": [
    "p = Path('/home/jaeohshin/study')\n",
    "print(p.exists())"
   ]
  },
  {
   "cell_type": "code",
   "execution_count": 13,
   "metadata": {},
   "outputs": [
    {
     "data": {
      "text/plain": [
       "12"
      ]
     },
     "execution_count": 13,
     "metadata": {},
     "output_type": "execute_result"
    }
   ],
   "source": [
    "p = Path('myfile.txt')\n",
    "\n",
    "p.write_text(\"Hola, Amigo!\")"
   ]
  },
  {
   "cell_type": "code",
   "execution_count": 14,
   "metadata": {},
   "outputs": [
    {
     "name": "stdout",
     "output_type": "stream",
     "text": [
      "Hola, Amigo!\n"
     ]
    }
   ],
   "source": [
    "content = p.read_text()\n",
    "print(content)"
   ]
  },
  {
   "cell_type": "code",
   "execution_count": 15,
   "metadata": {},
   "outputs": [
    {
     "name": "stdout",
     "output_type": "stream",
     "text": [
      "/home/jaeohshin/.vmdrc\n",
      "/home/jaeohshin/.ssh\n",
      "/home/jaeohshin/.vim\n",
      "/home/jaeohshin/.cache\n",
      "/home/jaeohshin/work\n",
      "/home/jaeohshin/.dropbox-dist\n",
      "/home/jaeohshin/.config\n",
      "/home/jaeohshin/data\n",
      "/home/jaeohshin/.xprofile\n",
      "/home/jaeohshin/.python_history\n",
      "/home/jaeohshin/study\n",
      "/home/jaeohshin/1ake.cif\n",
      "/home/jaeohshin/.data\n",
      "/home/jaeohshin/4ake.cif\n",
      "/home/jaeohshin/Zotero\n",
      "/home/jaeohshin/.selected_editor\n",
      "/home/jaeohshin/음악\n",
      "/home/jaeohshin/사진\n",
      "/home/jaeohshin/6uan.cif\n",
      "/home/jaeohshin/.var\n",
      "/home/jaeohshin/miniconda3\n",
      "/home/jaeohshin/.pki\n",
      "/home/jaeohshin/.vscode\n",
      "/home/jaeohshin/.condarc\n",
      "/home/jaeohshin/.gconf\n",
      "/home/jaeohshin/.fltk\n",
      "/home/jaeohshin/.jupyter\n",
      "/home/jaeohshin/.putty\n",
      "/home/jaeohshin/바탕화면\n",
      "/home/jaeohshin/.mozilla\n",
      "/home/jaeohshin/.pam_environment\n",
      "/home/jaeohshin/.gnuplot-wxt\n",
      "/home/jaeohshin/.viminfo\n",
      "/home/jaeohshin/.nv\n",
      "/home/jaeohshin/.bash_logout\n",
      "/home/jaeohshin/programs\n",
      "/home/jaeohshin/공개\n",
      "/home/jaeohshin/.dropbox\n",
      "/home/jaeohshin/.profile\n",
      "/home/jaeohshin/.ipython\n",
      "/home/jaeohshin/.bashrc\n",
      "/home/jaeohshin/.zoom\n",
      "/home/jaeohshin/3skc.cif\n",
      "/home/jaeohshin/.local\n",
      "/home/jaeohshin/myfile.txt\n",
      "/home/jaeohshin/.lesshst\n",
      "/home/jaeohshin/.pymol\n",
      "/home/jaeohshin/.bash_history\n",
      "/home/jaeohshin/.dgl\n",
      "/home/jaeohshin/문서\n",
      "/home/jaeohshin/비디오\n",
      "/home/jaeohshin/.zotero\n",
      "/home/jaeohshin/다운로드\n",
      "/home/jaeohshin/.dotnet\n",
      "/home/jaeohshin/Dropbox\n",
      "/home/jaeohshin/.conda\n",
      "/home/jaeohshin/.wget-hsts\n",
      "/home/jaeohshin/.gnuplot_history\n",
      "/home/jaeohshin/템플릿\n",
      "/home/jaeohshin/.sudo_as_admin_successful\n"
     ]
    }
   ],
   "source": [
    "p = Path('/home/jaeohshin/')\n",
    "\n",
    "for child in p.iterdir():\n",
    "    print(child)"
   ]
  },
  {
   "cell_type": "code",
   "execution_count": null,
   "metadata": {},
   "outputs": [],
   "source": []
  }
 ],
 "metadata": {
  "kernelspec": {
   "display_name": "study",
   "language": "python",
   "name": "python3"
  },
  "language_info": {
   "codemirror_mode": {
    "name": "ipython",
    "version": 3
   },
   "file_extension": ".py",
   "mimetype": "text/x-python",
   "name": "python",
   "nbconvert_exporter": "python",
   "pygments_lexer": "ipython3",
   "version": "3.11.11"
  }
 },
 "nbformat": 4,
 "nbformat_minor": 2
}
