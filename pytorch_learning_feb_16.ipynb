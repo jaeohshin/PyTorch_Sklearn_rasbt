{
  "cells": [
    {
      "cell_type": "markdown",
      "metadata": {
        "colab_type": "text",
        "id": "view-in-github"
      },
      "source": [
        "<a href=\"https://colab.research.google.com/github/jaeohshin/PyTorch_Sklearn_rasbt/blob/main/pytorch_learning_feb_16.ipynb\" target=\"_parent\"><img src=\"https://colab.research.google.com/assets/colab-badge.svg\" alt=\"Open In Colab\"/></a>"
      ]
    },
    {
      "cell_type": "markdown",
      "metadata": {},
      "source": [
        "## 사용자 정의 층 만들기"
      ]
    },
    {
      "cell_type": "code",
      "execution_count": 12,
      "metadata": {
        "id": "_xihOI_JtuqR"
      },
      "outputs": [],
      "source": [
        "import numpy as np\n",
        "import matplotlib.pyplot as plt\n",
        "import torch\n",
        "import torch.nn as nn"
      ]
    },
    {
      "cell_type": "code",
      "execution_count": 13,
      "metadata": {
        "id": "pKJS6KFrtuqR"
      },
      "outputs": [],
      "source": [
        "class MyModule(nn.Module):\n",
        "    def __init__(self):\n",
        "        super().__init__()\n",
        "        l1 = nn.Linear(2, 4)\n",
        "        a1 = nn.ReLU()\n",
        "        l2 = nn.Linear(4, 4)\n",
        "        a2 = nn.ReLU()\n",
        "        l3 = nn.Linear(4, 1)\n",
        "        a3 = nn.Sigmoid()\n",
        "\n",
        "        l = [l1, a1, l2, a2,l3, a3]\n",
        "        self.module_list = nn.ModuleList(l)\n",
        "\n",
        "    def forward(self, x):\n",
        "        for f in self.module_list:\n",
        "            x = f(x)\n",
        "        return x"
      ]
    },
    {
      "cell_type": "code",
      "execution_count": 14,
      "metadata": {
        "id": "4-8JIgKituqS"
      },
      "outputs": [],
      "source": [
        "model = MyModule()"
      ]
    },
    {
      "cell_type": "code",
      "execution_count": 15,
      "metadata": {
        "colab": {
          "base_uri": "https://localhost:8080/"
        },
        "id": "HRFPh6f4zMqQ",
        "outputId": "3d1dd935-b6c0-43b3-b61c-51a99e055160"
      },
      "outputs": [
        {
          "data": {
            "text/plain": [
              "MyModule(\n",
              "  (module_list): ModuleList(\n",
              "    (0): Linear(in_features=2, out_features=4, bias=True)\n",
              "    (1): ReLU()\n",
              "    (2): Linear(in_features=4, out_features=4, bias=True)\n",
              "    (3): ReLU()\n",
              "    (4): Linear(in_features=4, out_features=1, bias=True)\n",
              "    (5): Sigmoid()\n",
              "  )\n",
              ")"
            ]
          },
          "execution_count": 15,
          "metadata": {},
          "output_type": "execute_result"
        }
      ],
      "source": [
        "model"
      ]
    },
    {
      "cell_type": "code",
      "execution_count": 16,
      "metadata": {
        "id": "A9EQJiRf0Q_l"
      },
      "outputs": [],
      "source": [
        "class NoisyLinear(nn.Module):\n",
        "    def __init__(self, input_size, output_size,\n",
        "                 noise_stddev=0.1):\n",
        "        super().__init__()\n",
        "        w = torch.Tensor(input_size, output_size)\n",
        "        self.w = nn.Parameter(w)\n",
        "        nn.init.xavier_uniform_(self.w)\n",
        "        b = torch.Tensor(output_size).fill_(0)\n",
        "        self.b = nn.Parameter(b)\n",
        "        self.noise_stddev = noise_stddev\n",
        "\n",
        "    def forward(self, x, training=False):\n",
        "        if training:\n",
        "            noise = torch.normal(0.0, self.noise_stddev, x.shape)\n",
        "            x_new = torch.add(x, noise)\n",
        "        else:\n",
        "            x_new = x\n",
        "        return torch.add(torch.mm(x_new, self.w), self.b)"
      ]
    },
    {
      "cell_type": "markdown",
      "metadata": {},
      "source": [
        "### MNIST 숫자 분류"
      ]
    },
    {
      "cell_type": "code",
      "execution_count": 26,
      "metadata": {},
      "outputs": [],
      "source": [
        "import torchvision\n",
        "from torchvision import transforms\n",
        "from torch.utils.data import DataLoader\n",
        "image_path = './'\n",
        "\n",
        "\n",
        "transforms = transforms.Compose([\n",
        "    transforms.ToTensor()])\n",
        "\n",
        "mnist_train_dataset = torchvision.datasets.MNIST(\n",
        "    root = image_path, train=True,\n",
        "    transform=transforms, download=True)\n",
        "\n",
        "mnist_test_dataset = torchvision.datasets.MNIST(\n",
        "    root = image_path, train=False,\n",
        "    transform=transforms, download=True)\n",
        "\n",
        "batch_size = 64\n",
        "torch.manual_seed(1)\n",
        "\n",
        "train_dl = DataLoader(mnist_train_dataset,\n",
        "                      batch_size, shuffle=True)\n"
      ]
    },
    {
      "cell_type": "markdown",
      "metadata": {},
      "source": [
        "## Make NN"
      ]
    },
    {
      "cell_type": "code",
      "execution_count": 44,
      "metadata": {},
      "outputs": [
        {
          "data": {
            "text/plain": [
              "Sequential(\n",
              "  (0): Flatten(start_dim=1, end_dim=-1)\n",
              "  (1): Linear(in_features=784, out_features=32, bias=True)\n",
              "  (2): ReLU()\n",
              "  (3): Linear(in_features=32, out_features=16, bias=True)\n",
              "  (4): ReLU()\n",
              "  (5): Linear(in_features=16, out_features=10, bias=True)\n",
              ")"
            ]
          },
          "execution_count": 44,
          "metadata": {},
          "output_type": "execute_result"
        }
      ],
      "source": [
        "hidden_units = [32, 16]\n",
        "image_size = mnist_train_dataset[0][0].shape # print(image_size) = torch.Size([1, 28, 28])\n",
        "input_size = image_size[0] * image_size[1] * image_size[2] # print(input_size)=784\n",
        "all_layers= [nn.Flatten()]\n",
        "\n",
        "for hidden_unit in hidden_units:\n",
        "    layer = nn.Linear(input_size, hidden_unit)\n",
        "    all_layers.append(layer)\n",
        "    all_layers.append(nn.ReLU())\n",
        "    input_size = hidden_unit\n",
        "\n",
        "all_layers.append(nn.Linear(hidden_units[-1], 10))\n",
        "model = nn.Sequential(*all_layers)\n",
        "model"
      ]
    },
    {
      "cell_type": "code",
      "execution_count": 48,
      "metadata": {},
      "outputs": [
        {
          "name": "stdout",
          "output_type": "stream",
          "text": [
            "에포크 0 정확도 0.860817\n",
            "에포크 1 정확도 0.932850\n",
            "에포크 2 정확도 0.945217\n",
            "에포크 3 정확도 0.952750\n",
            "에포크 4 정확도 0.957917\n",
            "에포크 5 정확도 0.961983\n",
            "에포크 6 정확도 0.965183\n",
            "에포크 7 정확도 0.967933\n",
            "에포크 8 정확도 0.969917\n",
            "에포크 9 정확도 0.972133\n",
            "에포크 10 정확도 0.973933\n",
            "에포크 11 정확도 0.975467\n",
            "에포크 12 정확도 0.976583\n",
            "에포크 13 정확도 0.978400\n",
            "에포크 14 정확도 0.979000\n",
            "에포크 15 정확도 0.979800\n",
            "에포크 16 정확도 0.981983\n",
            "에포크 17 정확도 0.982250\n",
            "에포크 18 정확도 0.981867\n",
            "에포크 19 정확도 0.983883\n"
          ]
        }
      ],
      "source": [
        "loss_fn = nn.CrossEntropyLoss()\n",
        "optimizer = torch.optim.Adam(model.parameters(), lr = 0.001)\n",
        "torch.manual_seed(1)\n",
        "num_epochs = 20\n",
        "\n",
        "for epoch in range(num_epochs):\n",
        "    accuracy_hist_train = 0\n",
        "\n",
        "    for x_batch, y_batch in train_dl:\n",
        "        pred = model(x_batch)\n",
        "        loss = loss_fn(pred, y_batch)\n",
        "        loss.backward()\n",
        "        optimizer.step()\n",
        "        optimizer.zero_grad()\n",
        "        is_correct = (\n",
        "            torch.argmax(pred, dim=1) == y_batch\n",
        "            ).float()\n",
        "        accuracy_hist_train += is_correct.sum()\n",
        "    \n",
        "    accuracy_hist_train /= len(train_dl.dataset)\n",
        "\n",
        "    print(f'에포크 {epoch} 정확도'\n",
        "          f'{accuracy_hist_train: 4f}')"
      ]
    },
    {
      "cell_type": "code",
      "execution_count": 49,
      "metadata": {},
      "outputs": [
        {
          "name": "stdout",
          "output_type": "stream",
          "text": [
            "Test accuracy: 0.9689\n"
          ]
        }
      ],
      "source": [
        "pred = model(mnist_test_dataset.data / 255.)\n",
        "is_correct = (\n",
        "    torch.argmax(pred, dim=1) == \n",
        "    mnist_test_dataset.targets).float()\n",
        "\n",
        "print (f'Test accuracy: {is_correct.mean():.4f}')"
      ]
    },
    {
      "cell_type": "code",
      "execution_count": null,
      "metadata": {},
      "outputs": [],
      "source": []
    }
  ],
  "metadata": {
    "accelerator": "GPU",
    "colab": {
      "gpuType": "T4",
      "include_colab_link": true,
      "name": "pytorch_learning_feb_16.ipynb",
      "provenance": []
    },
    "kernelspec": {
      "display_name": "study",
      "language": "python",
      "name": "python3"
    },
    "language_info": {
      "codemirror_mode": {
        "name": "ipython",
        "version": 3
      },
      "file_extension": ".py",
      "mimetype": "text/x-python",
      "name": "python",
      "nbconvert_exporter": "python",
      "pygments_lexer": "ipython3",
      "version": "3.11.11"
    }
  },
  "nbformat": 4,
  "nbformat_minor": 0
}
