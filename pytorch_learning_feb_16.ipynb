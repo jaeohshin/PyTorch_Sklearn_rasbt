{
  "cells": [
    {
      "cell_type": "markdown",
      "metadata": {
        "colab_type": "text",
        "id": "view-in-github"
      },
      "source": [
        "<a href=\"https://colab.research.google.com/github/jaeohshin/PyTorch_Sklearn_rasbt/blob/main/pytorch_learning_feb_16.ipynb\" target=\"_parent\"><img src=\"https://colab.research.google.com/assets/colab-badge.svg\" alt=\"Open In Colab\"/></a>"
      ]
    },
    {
      "cell_type": "markdown",
      "metadata": {},
      "source": [
        "## 사용자 정의 층 만들기"
      ]
    },
    {
      "cell_type": "code",
      "execution_count": 12,
      "metadata": {
        "id": "_xihOI_JtuqR"
      },
      "outputs": [],
      "source": [
        "import numpy as np\n",
        "import matplotlib.pyplot as plt\n",
        "import torch\n",
        "import torch.nn as nn"
      ]
    },
    {
      "cell_type": "code",
      "execution_count": 13,
      "metadata": {
        "id": "pKJS6KFrtuqR"
      },
      "outputs": [],
      "source": [
        "class MyModule(nn.Module):\n",
        "    def __init__(self):\n",
        "        super().__init__()\n",
        "        l1 = nn.Linear(2, 4)\n",
        "        a1 = nn.ReLU()\n",
        "        l2 = nn.Linear(4, 4)\n",
        "        a2 = nn.ReLU()\n",
        "        l3 = nn.Linear(4, 1)\n",
        "        a3 = nn.Sigmoid()\n",
        "\n",
        "        l = [l1, a1, l2, a2,l3, a3]\n",
        "        self.module_list = nn.ModuleList(l)\n",
        "\n",
        "    def forward(self, x):\n",
        "        for f in self.module_list:\n",
        "            x = f(x)\n",
        "        return x"
      ]
    },
    {
      "cell_type": "code",
      "execution_count": 14,
      "metadata": {
        "id": "4-8JIgKituqS"
      },
      "outputs": [],
      "source": [
        "model = MyModule()"
      ]
    },
    {
      "cell_type": "code",
      "execution_count": 15,
      "metadata": {
        "colab": {
          "base_uri": "https://localhost:8080/"
        },
        "id": "HRFPh6f4zMqQ",
        "outputId": "3d1dd935-b6c0-43b3-b61c-51a99e055160"
      },
      "outputs": [
        {
          "data": {
            "text/plain": [
              "MyModule(\n",
              "  (module_list): ModuleList(\n",
              "    (0): Linear(in_features=2, out_features=4, bias=True)\n",
              "    (1): ReLU()\n",
              "    (2): Linear(in_features=4, out_features=4, bias=True)\n",
              "    (3): ReLU()\n",
              "    (4): Linear(in_features=4, out_features=1, bias=True)\n",
              "    (5): Sigmoid()\n",
              "  )\n",
              ")"
            ]
          },
          "execution_count": 15,
          "metadata": {},
          "output_type": "execute_result"
        }
      ],
      "source": [
        "model"
      ]
    },
    {
      "cell_type": "code",
      "execution_count": 16,
      "metadata": {
        "id": "A9EQJiRf0Q_l"
      },
      "outputs": [],
      "source": [
        "class NoisyLinear(nn.Module):\n",
        "    def __init__(self, input_size, output_size,\n",
        "                 noise_stddev=0.1):\n",
        "        super().__init__()\n",
        "        w = torch.Tensor(input_size, output_size)\n",
        "        self.w = nn.Parameter(w)\n",
        "        nn.init.xavier_uniform_(self.w)\n",
        "        b = torch.Tensor(output_size).fill_(0)\n",
        "        self.b = nn.Parameter(b)\n",
        "        self.noise_stddev = noise_stddev\n",
        "\n",
        "    def forward(self, x, training=False):\n",
        "        if training:\n",
        "            noise = torch.normal(0.0, self.noise_stddev, x.shape)\n",
        "            x_new = torch.add(x, noise)\n",
        "        else:\n",
        "            x_new = x\n",
        "        return torch.add(torch.mm(x_new, self.w), self.b)"
      ]
    },
    {
      "cell_type": "code",
      "execution_count": null,
      "metadata": {},
      "outputs": [],
      "source": []
    }
  ],
  "metadata": {
    "accelerator": "GPU",
    "colab": {
      "gpuType": "T4",
      "include_colab_link": true,
      "name": "pytorch_learning_feb_16.ipynb",
      "provenance": []
    },
    "kernelspec": {
      "display_name": "study",
      "language": "python",
      "name": "python3"
    },
    "language_info": {
      "codemirror_mode": {
        "name": "ipython",
        "version": 3
      },
      "file_extension": ".py",
      "mimetype": "text/x-python",
      "name": "python",
      "nbconvert_exporter": "python",
      "pygments_lexer": "ipython3",
      "version": "3.11.11"
    }
  },
  "nbformat": 4,
  "nbformat_minor": 0
}
